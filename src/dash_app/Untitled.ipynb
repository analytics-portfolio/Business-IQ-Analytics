{
 "cells": [
  {
   "cell_type": "code",
   "execution_count": 1,
   "id": "e63d27e8-223a-4d9a-9cb3-c4bc09127672",
   "metadata": {},
   "outputs": [],
   "source": [
    "import sys\n",
    "sys.path.append('../data_manipulation/')\n",
    "from data_manipulation import *"
   ]
  },
  {
   "cell_type": "code",
   "execution_count": 2,
   "id": "d3e99b17-5808-42fa-9a3c-aa7a08b7f0e5",
   "metadata": {},
   "outputs": [
    {
     "data": {
      "text/plain": [
       "<function data_manipulation.load_df_from_pickle(filename)>"
      ]
     },
     "execution_count": 2,
     "metadata": {},
     "output_type": "execute_result"
    }
   ],
   "source": [
    "load_df_from_pickle"
   ]
  },
  {
   "cell_type": "code",
   "execution_count": null,
   "id": "6c848152-2b3d-46b5-8f32-7f76e46dba83",
   "metadata": {},
   "outputs": [],
   "source": []
  }
 ],
 "metadata": {
  "kernelspec": {
   "display_name": "Python 3 (ipykernel)",
   "language": "python",
   "name": "python3"
  },
  "language_info": {
   "codemirror_mode": {
    "name": "ipython",
    "version": 3
   },
   "file_extension": ".py",
   "mimetype": "text/x-python",
   "name": "python",
   "nbconvert_exporter": "python",
   "pygments_lexer": "ipython3",
   "version": "3.12.0"
  }
 },
 "nbformat": 4,
 "nbformat_minor": 5
}
